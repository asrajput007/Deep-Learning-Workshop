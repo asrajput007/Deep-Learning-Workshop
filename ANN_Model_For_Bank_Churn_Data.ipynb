{
 "cells": [
  {
   "cell_type": "markdown",
   "metadata": {
    "id": "aI8ZGzP2H6R7"
   },
   "source": [
    "# **Exp- 1**"
   ]
  },
  {
   "cell_type": "markdown",
   "metadata": {
    "id": "GhpIDW6TLfoZ"
   },
   "source": [
    "## **Bank Churn ANN**"
   ]
  },
  {
   "cell_type": "markdown",
   "metadata": {
    "id": "iJ0ZKrDxffoG"
   },
   "source": [
    "# **Importing Necessary Libraries**"
   ]
  },
  {
   "cell_type": "code",
   "execution_count": 1,
   "metadata": {
    "id": "JuKSi3EJyGb-"
   },
   "outputs": [],
   "source": [
    "import numpy as np\n",
    "import pandas as pd"
   ]
  },
  {
   "cell_type": "markdown",
   "metadata": {
    "id": "92epT7aZgF74"
   },
   "source": [
    "# **Loading the Churn Dataset**\n",
    "\n",
    "This data set contains details of a bank's customers and the target variable is a binary variable reflecting the fact whether the customer left the bank (closed his account) or he continues to be a customer.\n",
    "\n",
    "**Binary flag 1 if the customer closed account with bank and 0 if the customer is retained.**"
   ]
  },
  {
   "cell_type": "code",
   "execution_count": 2,
   "metadata": {
    "colab": {
     "base_uri": "https://localhost:8080/",
     "height": 270
    },
    "executionInfo": {
     "elapsed": 1836,
     "status": "ok",
     "timestamp": 1684477355453,
     "user": {
      "displayName": "KARNATI MOHAN",
      "userId": "16604712269571437600"
     },
     "user_tz": -330
    },
    "id": "mslwX-u6eqdi",
    "outputId": "4dda9166-665f-4c1b-8d22-28aae7f18477"
   },
   "outputs": [
    {
     "data": {
      "text/html": [
       "<div>\n",
       "<style scoped>\n",
       "    .dataframe tbody tr th:only-of-type {\n",
       "        vertical-align: middle;\n",
       "    }\n",
       "\n",
       "    .dataframe tbody tr th {\n",
       "        vertical-align: top;\n",
       "    }\n",
       "\n",
       "    .dataframe thead th {\n",
       "        text-align: right;\n",
       "    }\n",
       "</style>\n",
       "<table border=\"1\" class=\"dataframe\">\n",
       "  <thead>\n",
       "    <tr style=\"text-align: right;\">\n",
       "      <th></th>\n",
       "      <th>RowNumber</th>\n",
       "      <th>CustomerId</th>\n",
       "      <th>Surname</th>\n",
       "      <th>CreditScore</th>\n",
       "      <th>Geography</th>\n",
       "      <th>Gender</th>\n",
       "      <th>Age</th>\n",
       "      <th>Tenure</th>\n",
       "      <th>Balance</th>\n",
       "      <th>NumOfProducts</th>\n",
       "      <th>HasCrCard</th>\n",
       "      <th>IsActiveMember</th>\n",
       "      <th>EstimatedSalary</th>\n",
       "      <th>Exited</th>\n",
       "    </tr>\n",
       "  </thead>\n",
       "  <tbody>\n",
       "    <tr>\n",
       "      <th>9990</th>\n",
       "      <td>9991</td>\n",
       "      <td>15798964</td>\n",
       "      <td>Nkemakonam</td>\n",
       "      <td>714</td>\n",
       "      <td>Germany</td>\n",
       "      <td>Male</td>\n",
       "      <td>33</td>\n",
       "      <td>3</td>\n",
       "      <td>35016.60</td>\n",
       "      <td>1</td>\n",
       "      <td>1</td>\n",
       "      <td>0</td>\n",
       "      <td>53667.08</td>\n",
       "      <td>0</td>\n",
       "    </tr>\n",
       "    <tr>\n",
       "      <th>9991</th>\n",
       "      <td>9992</td>\n",
       "      <td>15769959</td>\n",
       "      <td>Ajuluchukwu</td>\n",
       "      <td>597</td>\n",
       "      <td>France</td>\n",
       "      <td>Female</td>\n",
       "      <td>53</td>\n",
       "      <td>4</td>\n",
       "      <td>88381.21</td>\n",
       "      <td>1</td>\n",
       "      <td>1</td>\n",
       "      <td>0</td>\n",
       "      <td>69384.71</td>\n",
       "      <td>1</td>\n",
       "    </tr>\n",
       "    <tr>\n",
       "      <th>9992</th>\n",
       "      <td>9993</td>\n",
       "      <td>15657105</td>\n",
       "      <td>Chukwualuka</td>\n",
       "      <td>726</td>\n",
       "      <td>Spain</td>\n",
       "      <td>Male</td>\n",
       "      <td>36</td>\n",
       "      <td>2</td>\n",
       "      <td>0.00</td>\n",
       "      <td>1</td>\n",
       "      <td>1</td>\n",
       "      <td>0</td>\n",
       "      <td>195192.40</td>\n",
       "      <td>0</td>\n",
       "    </tr>\n",
       "    <tr>\n",
       "      <th>9993</th>\n",
       "      <td>9994</td>\n",
       "      <td>15569266</td>\n",
       "      <td>Rahman</td>\n",
       "      <td>644</td>\n",
       "      <td>France</td>\n",
       "      <td>Male</td>\n",
       "      <td>28</td>\n",
       "      <td>7</td>\n",
       "      <td>155060.41</td>\n",
       "      <td>1</td>\n",
       "      <td>1</td>\n",
       "      <td>0</td>\n",
       "      <td>29179.52</td>\n",
       "      <td>0</td>\n",
       "    </tr>\n",
       "    <tr>\n",
       "      <th>9994</th>\n",
       "      <td>9995</td>\n",
       "      <td>15719294</td>\n",
       "      <td>Wood</td>\n",
       "      <td>800</td>\n",
       "      <td>France</td>\n",
       "      <td>Female</td>\n",
       "      <td>29</td>\n",
       "      <td>2</td>\n",
       "      <td>0.00</td>\n",
       "      <td>2</td>\n",
       "      <td>0</td>\n",
       "      <td>0</td>\n",
       "      <td>167773.55</td>\n",
       "      <td>0</td>\n",
       "    </tr>\n",
       "    <tr>\n",
       "      <th>9995</th>\n",
       "      <td>9996</td>\n",
       "      <td>15606229</td>\n",
       "      <td>Obijiaku</td>\n",
       "      <td>771</td>\n",
       "      <td>France</td>\n",
       "      <td>Male</td>\n",
       "      <td>39</td>\n",
       "      <td>5</td>\n",
       "      <td>0.00</td>\n",
       "      <td>2</td>\n",
       "      <td>1</td>\n",
       "      <td>0</td>\n",
       "      <td>96270.64</td>\n",
       "      <td>0</td>\n",
       "    </tr>\n",
       "    <tr>\n",
       "      <th>9996</th>\n",
       "      <td>9997</td>\n",
       "      <td>15569892</td>\n",
       "      <td>Johnstone</td>\n",
       "      <td>516</td>\n",
       "      <td>France</td>\n",
       "      <td>Male</td>\n",
       "      <td>35</td>\n",
       "      <td>10</td>\n",
       "      <td>57369.61</td>\n",
       "      <td>1</td>\n",
       "      <td>1</td>\n",
       "      <td>1</td>\n",
       "      <td>101699.77</td>\n",
       "      <td>0</td>\n",
       "    </tr>\n",
       "    <tr>\n",
       "      <th>9997</th>\n",
       "      <td>9998</td>\n",
       "      <td>15584532</td>\n",
       "      <td>Liu</td>\n",
       "      <td>709</td>\n",
       "      <td>France</td>\n",
       "      <td>Female</td>\n",
       "      <td>36</td>\n",
       "      <td>7</td>\n",
       "      <td>0.00</td>\n",
       "      <td>1</td>\n",
       "      <td>0</td>\n",
       "      <td>1</td>\n",
       "      <td>42085.58</td>\n",
       "      <td>1</td>\n",
       "    </tr>\n",
       "    <tr>\n",
       "      <th>9998</th>\n",
       "      <td>9999</td>\n",
       "      <td>15682355</td>\n",
       "      <td>Sabbatini</td>\n",
       "      <td>772</td>\n",
       "      <td>Germany</td>\n",
       "      <td>Male</td>\n",
       "      <td>42</td>\n",
       "      <td>3</td>\n",
       "      <td>75075.31</td>\n",
       "      <td>2</td>\n",
       "      <td>1</td>\n",
       "      <td>0</td>\n",
       "      <td>92888.52</td>\n",
       "      <td>1</td>\n",
       "    </tr>\n",
       "    <tr>\n",
       "      <th>9999</th>\n",
       "      <td>10000</td>\n",
       "      <td>15628319</td>\n",
       "      <td>Walker</td>\n",
       "      <td>792</td>\n",
       "      <td>France</td>\n",
       "      <td>Female</td>\n",
       "      <td>28</td>\n",
       "      <td>4</td>\n",
       "      <td>130142.79</td>\n",
       "      <td>1</td>\n",
       "      <td>1</td>\n",
       "      <td>0</td>\n",
       "      <td>38190.78</td>\n",
       "      <td>0</td>\n",
       "    </tr>\n",
       "  </tbody>\n",
       "</table>\n",
       "</div>"
      ],
      "text/plain": [
       "      RowNumber  CustomerId      Surname  CreditScore Geography  Gender  Age  \\\n",
       "9990       9991    15798964   Nkemakonam          714   Germany    Male   33   \n",
       "9991       9992    15769959  Ajuluchukwu          597    France  Female   53   \n",
       "9992       9993    15657105  Chukwualuka          726     Spain    Male   36   \n",
       "9993       9994    15569266       Rahman          644    France    Male   28   \n",
       "9994       9995    15719294         Wood          800    France  Female   29   \n",
       "9995       9996    15606229     Obijiaku          771    France    Male   39   \n",
       "9996       9997    15569892    Johnstone          516    France    Male   35   \n",
       "9997       9998    15584532          Liu          709    France  Female   36   \n",
       "9998       9999    15682355    Sabbatini          772   Germany    Male   42   \n",
       "9999      10000    15628319       Walker          792    France  Female   28   \n",
       "\n",
       "      Tenure    Balance  NumOfProducts  HasCrCard  IsActiveMember  \\\n",
       "9990       3   35016.60              1          1               0   \n",
       "9991       4   88381.21              1          1               0   \n",
       "9992       2       0.00              1          1               0   \n",
       "9993       7  155060.41              1          1               0   \n",
       "9994       2       0.00              2          0               0   \n",
       "9995       5       0.00              2          1               0   \n",
       "9996      10   57369.61              1          1               1   \n",
       "9997       7       0.00              1          0               1   \n",
       "9998       3   75075.31              2          1               0   \n",
       "9999       4  130142.79              1          1               0   \n",
       "\n",
       "      EstimatedSalary  Exited  \n",
       "9990         53667.08       0  \n",
       "9991         69384.71       1  \n",
       "9992        195192.40       0  \n",
       "9993         29179.52       0  \n",
       "9994        167773.55       0  \n",
       "9995         96270.64       0  \n",
       "9996        101699.77       0  \n",
       "9997         42085.58       1  \n",
       "9998         92888.52       1  \n",
       "9999         38190.78       0  "
      ]
     },
     "execution_count": 2,
     "metadata": {},
     "output_type": "execute_result"
    }
   ],
   "source": [
    "churn_data = pd.read_csv('/workspace/COde Ml/Deep learning/bank.csv', delimiter = ',')\n",
    "churn_data.tail(10)"
   ]
  },
  {
   "cell_type": "code",
   "execution_count": 3,
   "metadata": {},
   "outputs": [
    {
     "data": {
      "text/html": [
       "<div>\n",
       "<style scoped>\n",
       "    .dataframe tbody tr th:only-of-type {\n",
       "        vertical-align: middle;\n",
       "    }\n",
       "\n",
       "    .dataframe tbody tr th {\n",
       "        vertical-align: top;\n",
       "    }\n",
       "\n",
       "    .dataframe thead th {\n",
       "        text-align: right;\n",
       "    }\n",
       "</style>\n",
       "<table border=\"1\" class=\"dataframe\">\n",
       "  <thead>\n",
       "    <tr style=\"text-align: right;\">\n",
       "      <th></th>\n",
       "      <th>RowNumber</th>\n",
       "      <th>CustomerId</th>\n",
       "      <th>Surname</th>\n",
       "      <th>CreditScore</th>\n",
       "      <th>Geography</th>\n",
       "      <th>Gender</th>\n",
       "      <th>Age</th>\n",
       "      <th>Tenure</th>\n",
       "      <th>Balance</th>\n",
       "      <th>NumOfProducts</th>\n",
       "      <th>HasCrCard</th>\n",
       "      <th>IsActiveMember</th>\n",
       "      <th>EstimatedSalary</th>\n",
       "      <th>Exited</th>\n",
       "    </tr>\n",
       "  </thead>\n",
       "  <tbody>\n",
       "    <tr>\n",
       "      <th>4895</th>\n",
       "      <td>4896</td>\n",
       "      <td>15589435</td>\n",
       "      <td>Davide</td>\n",
       "      <td>784</td>\n",
       "      <td>France</td>\n",
       "      <td>Male</td>\n",
       "      <td>31</td>\n",
       "      <td>7</td>\n",
       "      <td>0.00</td>\n",
       "      <td>2</td>\n",
       "      <td>1</td>\n",
       "      <td>1</td>\n",
       "      <td>143204.41</td>\n",
       "      <td>0</td>\n",
       "    </tr>\n",
       "    <tr>\n",
       "      <th>8092</th>\n",
       "      <td>8093</td>\n",
       "      <td>15663770</td>\n",
       "      <td>Doyle</td>\n",
       "      <td>802</td>\n",
       "      <td>France</td>\n",
       "      <td>Male</td>\n",
       "      <td>38</td>\n",
       "      <td>1</td>\n",
       "      <td>142557.11</td>\n",
       "      <td>1</td>\n",
       "      <td>1</td>\n",
       "      <td>1</td>\n",
       "      <td>172497.73</td>\n",
       "      <td>0</td>\n",
       "    </tr>\n",
       "    <tr>\n",
       "      <th>9937</th>\n",
       "      <td>9938</td>\n",
       "      <td>15782475</td>\n",
       "      <td>Edith</td>\n",
       "      <td>700</td>\n",
       "      <td>France</td>\n",
       "      <td>Female</td>\n",
       "      <td>42</td>\n",
       "      <td>8</td>\n",
       "      <td>0.00</td>\n",
       "      <td>2</td>\n",
       "      <td>1</td>\n",
       "      <td>1</td>\n",
       "      <td>105305.72</td>\n",
       "      <td>0</td>\n",
       "    </tr>\n",
       "    <tr>\n",
       "      <th>7673</th>\n",
       "      <td>7674</td>\n",
       "      <td>15788634</td>\n",
       "      <td>Romani</td>\n",
       "      <td>750</td>\n",
       "      <td>Spain</td>\n",
       "      <td>Female</td>\n",
       "      <td>37</td>\n",
       "      <td>2</td>\n",
       "      <td>113817.06</td>\n",
       "      <td>1</td>\n",
       "      <td>0</td>\n",
       "      <td>0</td>\n",
       "      <td>88333.74</td>\n",
       "      <td>0</td>\n",
       "    </tr>\n",
       "    <tr>\n",
       "      <th>3403</th>\n",
       "      <td>3404</td>\n",
       "      <td>15611800</td>\n",
       "      <td>Loggia</td>\n",
       "      <td>624</td>\n",
       "      <td>France</td>\n",
       "      <td>Female</td>\n",
       "      <td>62</td>\n",
       "      <td>7</td>\n",
       "      <td>125163.62</td>\n",
       "      <td>2</td>\n",
       "      <td>1</td>\n",
       "      <td>1</td>\n",
       "      <td>151411.50</td>\n",
       "      <td>0</td>\n",
       "    </tr>\n",
       "    <tr>\n",
       "      <th>5148</th>\n",
       "      <td>5149</td>\n",
       "      <td>15812767</td>\n",
       "      <td>Harvey</td>\n",
       "      <td>731</td>\n",
       "      <td>Spain</td>\n",
       "      <td>Male</td>\n",
       "      <td>70</td>\n",
       "      <td>3</td>\n",
       "      <td>0.00</td>\n",
       "      <td>2</td>\n",
       "      <td>1</td>\n",
       "      <td>1</td>\n",
       "      <td>141180.66</td>\n",
       "      <td>0</td>\n",
       "    </tr>\n",
       "    <tr>\n",
       "      <th>946</th>\n",
       "      <td>947</td>\n",
       "      <td>15745324</td>\n",
       "      <td>Milani</td>\n",
       "      <td>599</td>\n",
       "      <td>Spain</td>\n",
       "      <td>Female</td>\n",
       "      <td>39</td>\n",
       "      <td>4</td>\n",
       "      <td>0.00</td>\n",
       "      <td>1</td>\n",
       "      <td>1</td>\n",
       "      <td>0</td>\n",
       "      <td>194273.20</td>\n",
       "      <td>1</td>\n",
       "    </tr>\n",
       "    <tr>\n",
       "      <th>756</th>\n",
       "      <td>757</td>\n",
       "      <td>15637979</td>\n",
       "      <td>Fuller</td>\n",
       "      <td>664</td>\n",
       "      <td>Germany</td>\n",
       "      <td>Female</td>\n",
       "      <td>36</td>\n",
       "      <td>2</td>\n",
       "      <td>127160.78</td>\n",
       "      <td>2</td>\n",
       "      <td>1</td>\n",
       "      <td>0</td>\n",
       "      <td>78140.75</td>\n",
       "      <td>0</td>\n",
       "    </tr>\n",
       "    <tr>\n",
       "      <th>4245</th>\n",
       "      <td>4246</td>\n",
       "      <td>15569446</td>\n",
       "      <td>Tu</td>\n",
       "      <td>732</td>\n",
       "      <td>France</td>\n",
       "      <td>Female</td>\n",
       "      <td>34</td>\n",
       "      <td>8</td>\n",
       "      <td>122338.43</td>\n",
       "      <td>2</td>\n",
       "      <td>1</td>\n",
       "      <td>0</td>\n",
       "      <td>187985.85</td>\n",
       "      <td>0</td>\n",
       "    </tr>\n",
       "    <tr>\n",
       "      <th>3413</th>\n",
       "      <td>3414</td>\n",
       "      <td>15627412</td>\n",
       "      <td>Ferri</td>\n",
       "      <td>605</td>\n",
       "      <td>France</td>\n",
       "      <td>Male</td>\n",
       "      <td>39</td>\n",
       "      <td>3</td>\n",
       "      <td>0.00</td>\n",
       "      <td>2</td>\n",
       "      <td>1</td>\n",
       "      <td>0</td>\n",
       "      <td>199390.45</td>\n",
       "      <td>0</td>\n",
       "    </tr>\n",
       "  </tbody>\n",
       "</table>\n",
       "</div>"
      ],
      "text/plain": [
       "      RowNumber  CustomerId Surname  CreditScore Geography  Gender  Age  \\\n",
       "4895       4896    15589435  Davide          784    France    Male   31   \n",
       "8092       8093    15663770   Doyle          802    France    Male   38   \n",
       "9937       9938    15782475   Edith          700    France  Female   42   \n",
       "7673       7674    15788634  Romani          750     Spain  Female   37   \n",
       "3403       3404    15611800  Loggia          624    France  Female   62   \n",
       "5148       5149    15812767  Harvey          731     Spain    Male   70   \n",
       "946         947    15745324  Milani          599     Spain  Female   39   \n",
       "756         757    15637979  Fuller          664   Germany  Female   36   \n",
       "4245       4246    15569446      Tu          732    France  Female   34   \n",
       "3413       3414    15627412   Ferri          605    France    Male   39   \n",
       "\n",
       "      Tenure    Balance  NumOfProducts  HasCrCard  IsActiveMember  \\\n",
       "4895       7       0.00              2          1               1   \n",
       "8092       1  142557.11              1          1               1   \n",
       "9937       8       0.00              2          1               1   \n",
       "7673       2  113817.06              1          0               0   \n",
       "3403       7  125163.62              2          1               1   \n",
       "5148       3       0.00              2          1               1   \n",
       "946        4       0.00              1          1               0   \n",
       "756        2  127160.78              2          1               0   \n",
       "4245       8  122338.43              2          1               0   \n",
       "3413       3       0.00              2          1               0   \n",
       "\n",
       "      EstimatedSalary  Exited  \n",
       "4895        143204.41       0  \n",
       "8092        172497.73       0  \n",
       "9937        105305.72       0  \n",
       "7673         88333.74       0  \n",
       "3403        151411.50       0  \n",
       "5148        141180.66       0  \n",
       "946         194273.20       1  \n",
       "756          78140.75       0  \n",
       "4245        187985.85       0  \n",
       "3413        199390.45       0  "
      ]
     },
     "execution_count": 3,
     "metadata": {},
     "output_type": "execute_result"
    }
   ],
   "source": [
    "churn_data.sample(10) # .sample(10): Randomly selects 10 rows from the dataset.\n"
   ]
  },
  {
   "cell_type": "markdown",
   "metadata": {
    "id": "TgacS0JggQgr"
   },
   "source": [
    "# **Accessing the Column Names in the Dataset**"
   ]
  },
  {
   "cell_type": "code",
   "execution_count": 4,
   "metadata": {
    "colab": {
     "base_uri": "https://localhost:8080/"
    },
    "executionInfo": {
     "elapsed": 1155,
     "status": "ok",
     "timestamp": 1684477365708,
     "user": {
      "displayName": "KARNATI MOHAN",
      "userId": "16604712269571437600"
     },
     "user_tz": -330
    },
    "id": "hqRcQ0jffWS6",
    "outputId": "1943e6fe-ddfd-493d-e0dd-45db0ca2b01c"
   },
   "outputs": [
    {
     "data": {
      "text/plain": [
       "Index(['RowNumber', 'CustomerId', 'Surname', 'CreditScore', 'Geography',\n",
       "       'Gender', 'Age', 'Tenure', 'Balance', 'NumOfProducts', 'HasCrCard',\n",
       "       'IsActiveMember', 'EstimatedSalary', 'Exited'],\n",
       "      dtype='object')"
      ]
     },
     "execution_count": 4,
     "metadata": {},
     "output_type": "execute_result"
    }
   ],
   "source": [
    "churn_data.columns"
   ]
  },
  {
   "cell_type": "code",
   "execution_count": 5,
   "metadata": {},
   "outputs": [
    {
     "data": {
      "text/plain": [
       "(10000, 14)"
      ]
     },
     "execution_count": 5,
     "metadata": {},
     "output_type": "execute_result"
    }
   ],
   "source": [
    "churn_data.shape\n"
   ]
  },
  {
   "cell_type": "markdown",
   "metadata": {
    "id": "-7n0cCvjgYdA"
   },
   "source": [
    "# **Setting Column as a Index**"
   ]
  },
  {
   "cell_type": "code",
   "execution_count": 6,
   "metadata": {
    "colab": {
     "base_uri": "https://localhost:8080/",
     "height": 301
    },
    "executionInfo": {
     "elapsed": 6,
     "status": "ok",
     "timestamp": 1684477367517,
     "user": {
      "displayName": "KARNATI MOHAN",
      "userId": "16604712269571437600"
     },
     "user_tz": -330
    },
    "id": "uHyanSIie5Xx",
    "outputId": "caf9f81c-745f-4d92-b221-494a87241543"
   },
   "outputs": [
    {
     "data": {
      "text/html": [
       "<div>\n",
       "<style scoped>\n",
       "    .dataframe tbody tr th:only-of-type {\n",
       "        vertical-align: middle;\n",
       "    }\n",
       "\n",
       "    .dataframe tbody tr th {\n",
       "        vertical-align: top;\n",
       "    }\n",
       "\n",
       "    .dataframe thead th {\n",
       "        text-align: right;\n",
       "    }\n",
       "</style>\n",
       "<table border=\"1\" class=\"dataframe\">\n",
       "  <thead>\n",
       "    <tr style=\"text-align: right;\">\n",
       "      <th></th>\n",
       "      <th>CustomerId</th>\n",
       "      <th>Surname</th>\n",
       "      <th>CreditScore</th>\n",
       "      <th>Geography</th>\n",
       "      <th>Gender</th>\n",
       "      <th>Age</th>\n",
       "      <th>Tenure</th>\n",
       "      <th>Balance</th>\n",
       "      <th>NumOfProducts</th>\n",
       "      <th>HasCrCard</th>\n",
       "      <th>IsActiveMember</th>\n",
       "      <th>EstimatedSalary</th>\n",
       "      <th>Exited</th>\n",
       "    </tr>\n",
       "    <tr>\n",
       "      <th>RowNumber</th>\n",
       "      <th></th>\n",
       "      <th></th>\n",
       "      <th></th>\n",
       "      <th></th>\n",
       "      <th></th>\n",
       "      <th></th>\n",
       "      <th></th>\n",
       "      <th></th>\n",
       "      <th></th>\n",
       "      <th></th>\n",
       "      <th></th>\n",
       "      <th></th>\n",
       "      <th></th>\n",
       "    </tr>\n",
       "  </thead>\n",
       "  <tbody>\n",
       "    <tr>\n",
       "      <th>1</th>\n",
       "      <td>15634602</td>\n",
       "      <td>Hargrave</td>\n",
       "      <td>619</td>\n",
       "      <td>France</td>\n",
       "      <td>Female</td>\n",
       "      <td>42</td>\n",
       "      <td>2</td>\n",
       "      <td>0.00</td>\n",
       "      <td>1</td>\n",
       "      <td>1</td>\n",
       "      <td>1</td>\n",
       "      <td>101348.88</td>\n",
       "      <td>1</td>\n",
       "    </tr>\n",
       "    <tr>\n",
       "      <th>2</th>\n",
       "      <td>15647311</td>\n",
       "      <td>Hill</td>\n",
       "      <td>608</td>\n",
       "      <td>Spain</td>\n",
       "      <td>Female</td>\n",
       "      <td>41</td>\n",
       "      <td>1</td>\n",
       "      <td>83807.86</td>\n",
       "      <td>1</td>\n",
       "      <td>0</td>\n",
       "      <td>1</td>\n",
       "      <td>112542.58</td>\n",
       "      <td>0</td>\n",
       "    </tr>\n",
       "    <tr>\n",
       "      <th>3</th>\n",
       "      <td>15619304</td>\n",
       "      <td>Onio</td>\n",
       "      <td>502</td>\n",
       "      <td>France</td>\n",
       "      <td>Female</td>\n",
       "      <td>42</td>\n",
       "      <td>8</td>\n",
       "      <td>159660.80</td>\n",
       "      <td>3</td>\n",
       "      <td>1</td>\n",
       "      <td>0</td>\n",
       "      <td>113931.57</td>\n",
       "      <td>1</td>\n",
       "    </tr>\n",
       "    <tr>\n",
       "      <th>4</th>\n",
       "      <td>15701354</td>\n",
       "      <td>Boni</td>\n",
       "      <td>699</td>\n",
       "      <td>France</td>\n",
       "      <td>Female</td>\n",
       "      <td>39</td>\n",
       "      <td>1</td>\n",
       "      <td>0.00</td>\n",
       "      <td>2</td>\n",
       "      <td>0</td>\n",
       "      <td>0</td>\n",
       "      <td>93826.63</td>\n",
       "      <td>0</td>\n",
       "    </tr>\n",
       "    <tr>\n",
       "      <th>5</th>\n",
       "      <td>15737888</td>\n",
       "      <td>Mitchell</td>\n",
       "      <td>850</td>\n",
       "      <td>Spain</td>\n",
       "      <td>Female</td>\n",
       "      <td>43</td>\n",
       "      <td>2</td>\n",
       "      <td>125510.82</td>\n",
       "      <td>1</td>\n",
       "      <td>1</td>\n",
       "      <td>1</td>\n",
       "      <td>79084.10</td>\n",
       "      <td>0</td>\n",
       "    </tr>\n",
       "  </tbody>\n",
       "</table>\n",
       "</div>"
      ],
      "text/plain": [
       "           CustomerId   Surname  CreditScore Geography  Gender  Age  Tenure  \\\n",
       "RowNumber                                                                     \n",
       "1            15634602  Hargrave          619    France  Female   42       2   \n",
       "2            15647311      Hill          608     Spain  Female   41       1   \n",
       "3            15619304      Onio          502    France  Female   42       8   \n",
       "4            15701354      Boni          699    France  Female   39       1   \n",
       "5            15737888  Mitchell          850     Spain  Female   43       2   \n",
       "\n",
       "             Balance  NumOfProducts  HasCrCard  IsActiveMember  \\\n",
       "RowNumber                                                        \n",
       "1               0.00              1          1               1   \n",
       "2           83807.86              1          0               1   \n",
       "3          159660.80              3          1               0   \n",
       "4               0.00              2          0               0   \n",
       "5          125510.82              1          1               1   \n",
       "\n",
       "           EstimatedSalary  Exited  \n",
       "RowNumber                           \n",
       "1                101348.88       1  \n",
       "2                112542.58       0  \n",
       "3                113931.57       1  \n",
       "4                 93826.63       0  \n",
       "5                 79084.10       0  "
      ]
     },
     "execution_count": 6,
     "metadata": {},
     "output_type": "execute_result"
    }
   ],
   "source": [
    "churn_data = churn_data.set_index('RowNumber')\n",
    "churn_data.head()"
   ]
  },
  {
   "cell_type": "code",
   "execution_count": 7,
   "metadata": {},
   "outputs": [
    {
     "data": {
      "text/html": [
       "<div>\n",
       "<style scoped>\n",
       "    .dataframe tbody tr th:only-of-type {\n",
       "        vertical-align: middle;\n",
       "    }\n",
       "\n",
       "    .dataframe tbody tr th {\n",
       "        vertical-align: top;\n",
       "    }\n",
       "\n",
       "    .dataframe thead th {\n",
       "        text-align: right;\n",
       "    }\n",
       "</style>\n",
       "<table border=\"1\" class=\"dataframe\">\n",
       "  <thead>\n",
       "    <tr style=\"text-align: right;\">\n",
       "      <th></th>\n",
       "      <th>CustomerId</th>\n",
       "      <th>Surname</th>\n",
       "      <th>CreditScore</th>\n",
       "      <th>Geography</th>\n",
       "      <th>Gender</th>\n",
       "      <th>Age</th>\n",
       "      <th>Tenure</th>\n",
       "      <th>Balance</th>\n",
       "      <th>NumOfProducts</th>\n",
       "      <th>HasCrCard</th>\n",
       "      <th>IsActiveMember</th>\n",
       "      <th>EstimatedSalary</th>\n",
       "      <th>Exited</th>\n",
       "    </tr>\n",
       "    <tr>\n",
       "      <th>RowNumber</th>\n",
       "      <th></th>\n",
       "      <th></th>\n",
       "      <th></th>\n",
       "      <th></th>\n",
       "      <th></th>\n",
       "      <th></th>\n",
       "      <th></th>\n",
       "      <th></th>\n",
       "      <th></th>\n",
       "      <th></th>\n",
       "      <th></th>\n",
       "      <th></th>\n",
       "      <th></th>\n",
       "    </tr>\n",
       "  </thead>\n",
       "  <tbody>\n",
       "    <tr>\n",
       "      <th>1</th>\n",
       "      <td>15634602</td>\n",
       "      <td>Hargrave</td>\n",
       "      <td>619</td>\n",
       "      <td>France</td>\n",
       "      <td>Female</td>\n",
       "      <td>42</td>\n",
       "      <td>2</td>\n",
       "      <td>0.00</td>\n",
       "      <td>1</td>\n",
       "      <td>1</td>\n",
       "      <td>1</td>\n",
       "      <td>101348.88</td>\n",
       "      <td>1</td>\n",
       "    </tr>\n",
       "    <tr>\n",
       "      <th>2</th>\n",
       "      <td>15647311</td>\n",
       "      <td>Hill</td>\n",
       "      <td>608</td>\n",
       "      <td>Spain</td>\n",
       "      <td>Female</td>\n",
       "      <td>41</td>\n",
       "      <td>1</td>\n",
       "      <td>83807.86</td>\n",
       "      <td>1</td>\n",
       "      <td>0</td>\n",
       "      <td>1</td>\n",
       "      <td>112542.58</td>\n",
       "      <td>0</td>\n",
       "    </tr>\n",
       "    <tr>\n",
       "      <th>3</th>\n",
       "      <td>15619304</td>\n",
       "      <td>Onio</td>\n",
       "      <td>502</td>\n",
       "      <td>France</td>\n",
       "      <td>Female</td>\n",
       "      <td>42</td>\n",
       "      <td>8</td>\n",
       "      <td>159660.80</td>\n",
       "      <td>3</td>\n",
       "      <td>1</td>\n",
       "      <td>0</td>\n",
       "      <td>113931.57</td>\n",
       "      <td>1</td>\n",
       "    </tr>\n",
       "    <tr>\n",
       "      <th>4</th>\n",
       "      <td>15701354</td>\n",
       "      <td>Boni</td>\n",
       "      <td>699</td>\n",
       "      <td>France</td>\n",
       "      <td>Female</td>\n",
       "      <td>39</td>\n",
       "      <td>1</td>\n",
       "      <td>0.00</td>\n",
       "      <td>2</td>\n",
       "      <td>0</td>\n",
       "      <td>0</td>\n",
       "      <td>93826.63</td>\n",
       "      <td>0</td>\n",
       "    </tr>\n",
       "    <tr>\n",
       "      <th>5</th>\n",
       "      <td>15737888</td>\n",
       "      <td>Mitchell</td>\n",
       "      <td>850</td>\n",
       "      <td>Spain</td>\n",
       "      <td>Female</td>\n",
       "      <td>43</td>\n",
       "      <td>2</td>\n",
       "      <td>125510.82</td>\n",
       "      <td>1</td>\n",
       "      <td>1</td>\n",
       "      <td>1</td>\n",
       "      <td>79084.10</td>\n",
       "      <td>0</td>\n",
       "    </tr>\n",
       "  </tbody>\n",
       "</table>\n",
       "</div>"
      ],
      "text/plain": [
       "           CustomerId   Surname  CreditScore Geography  Gender  Age  Tenure  \\\n",
       "RowNumber                                                                     \n",
       "1            15634602  Hargrave          619    France  Female   42       2   \n",
       "2            15647311      Hill          608     Spain  Female   41       1   \n",
       "3            15619304      Onio          502    France  Female   42       8   \n",
       "4            15701354      Boni          699    France  Female   39       1   \n",
       "5            15737888  Mitchell          850     Spain  Female   43       2   \n",
       "\n",
       "             Balance  NumOfProducts  HasCrCard  IsActiveMember  \\\n",
       "RowNumber                                                        \n",
       "1               0.00              1          1               1   \n",
       "2           83807.86              1          0               1   \n",
       "3          159660.80              3          1               0   \n",
       "4               0.00              2          0               0   \n",
       "5          125510.82              1          1               1   \n",
       "\n",
       "           EstimatedSalary  Exited  \n",
       "RowNumber                           \n",
       "1                101348.88       1  \n",
       "2                112542.58       0  \n",
       "3                113931.57       1  \n",
       "4                 93826.63       0  \n",
       "5                 79084.10       0  "
      ]
     },
     "execution_count": 7,
     "metadata": {},
     "output_type": "execute_result"
    }
   ],
   "source": [
    "churn_data.head()"
   ]
  },
  {
   "cell_type": "markdown",
   "metadata": {
    "id": "WbWc384ZgkNk"
   },
   "source": [
    "# **Finding the Shape of the Dataset**"
   ]
  },
  {
   "cell_type": "code",
   "execution_count": 8,
   "metadata": {
    "colab": {
     "base_uri": "https://localhost:8080/"
    },
    "executionInfo": {
     "elapsed": 482,
     "status": "ok",
     "timestamp": 1684477375800,
     "user": {
      "displayName": "KARNATI MOHAN",
      "userId": "16604712269571437600"
     },
     "user_tz": -330
    },
    "id": "v3r-6BsCfO6O",
    "outputId": "7b1e67ef-73e9-415d-ffbb-a050b179d040"
   },
   "outputs": [
    {
     "data": {
      "text/plain": [
       "(10000, 13)"
      ]
     },
     "execution_count": 8,
     "metadata": {},
     "output_type": "execute_result"
    }
   ],
   "source": [
    "churn_data.shape"
   ]
  },
  {
   "cell_type": "code",
   "execution_count": 9,
   "metadata": {
    "colab": {
     "base_uri": "https://localhost:8080/"
    },
    "executionInfo": {
     "elapsed": 710,
     "status": "ok",
     "timestamp": 1684477382664,
     "user": {
      "displayName": "KARNATI MOHAN",
      "userId": "16604712269571437600"
     },
     "user_tz": -330
    },
    "id": "DR5iJOoggqVl",
    "outputId": "fe4fb80b-a185-4fbc-d49e-af80f2530430"
   },
   "outputs": [
    {
     "name": "stdout",
     "output_type": "stream",
     "text": [
      "<class 'pandas.core.frame.DataFrame'>\n",
      "Int64Index: 10000 entries, 1 to 10000\n",
      "Data columns (total 13 columns):\n",
      " #   Column           Non-Null Count  Dtype  \n",
      "---  ------           --------------  -----  \n",
      " 0   CustomerId       10000 non-null  int64  \n",
      " 1   Surname          10000 non-null  object \n",
      " 2   CreditScore      10000 non-null  int64  \n",
      " 3   Geography        10000 non-null  object \n",
      " 4   Gender           10000 non-null  object \n",
      " 5   Age              10000 non-null  int64  \n",
      " 6   Tenure           10000 non-null  int64  \n",
      " 7   Balance          10000 non-null  float64\n",
      " 8   NumOfProducts    10000 non-null  int64  \n",
      " 9   HasCrCard        10000 non-null  int64  \n",
      " 10  IsActiveMember   10000 non-null  int64  \n",
      " 11  EstimatedSalary  10000 non-null  float64\n",
      " 12  Exited           10000 non-null  int64  \n",
      "dtypes: float64(2), int64(8), object(3)\n",
      "memory usage: 1.1+ MB\n"
     ]
    }
   ],
   "source": [
    "churn_data.info()"
   ]
  },
  {
   "cell_type": "markdown",
   "metadata": {
    "id": "MOi7okQ_tQrB"
   },
   "source": [
    "# **Checking Missing Values**"
   ]
  },
  {
   "cell_type": "code",
   "execution_count": 10,
   "metadata": {
    "colab": {
     "base_uri": "https://localhost:8080/"
    },
    "executionInfo": {
     "elapsed": 720,
     "status": "ok",
     "timestamp": 1684477390396,
     "user": {
      "displayName": "KARNATI MOHAN",
      "userId": "16604712269571437600"
     },
     "user_tz": -330
    },
    "id": "3XbsLJg0tN-L",
    "outputId": "cb606d9a-cbac-4c4f-dc32-70099bdf98f0"
   },
   "outputs": [
    {
     "data": {
      "text/plain": [
       "CustomerId         0\n",
       "Surname            0\n",
       "CreditScore        0\n",
       "Geography          0\n",
       "Gender             0\n",
       "Age                0\n",
       "Tenure             0\n",
       "Balance            0\n",
       "NumOfProducts      0\n",
       "HasCrCard          0\n",
       "IsActiveMember     0\n",
       "EstimatedSalary    0\n",
       "Exited             0\n",
       "dtype: int64"
      ]
     },
     "execution_count": 10,
     "metadata": {},
     "output_type": "execute_result"
    }
   ],
   "source": [
    "churn_data.isna().sum()"
   ]
  },
  {
   "cell_type": "markdown",
   "metadata": {
    "id": "gL5klaMFg4U0"
   },
   "source": [
    "# **Some Columns are Totally Unproductive so let's Remove them**"
   ]
  },
  {
   "cell_type": "code",
   "execution_count": 11,
   "metadata": {
    "id": "yNjlTn9yhJtA",
    "outputId": "00f4feac-7b00-4b6a-fe65-679a14244c48"
   },
   "outputs": [
    {
     "data": {
      "text/plain": [
       "CustomerId         10000\n",
       "Surname             2932\n",
       "CreditScore          460\n",
       "Geography              3\n",
       "Gender                 2\n",
       "Age                   70\n",
       "Tenure                11\n",
       "Balance             6382\n",
       "NumOfProducts          4\n",
       "HasCrCard              2\n",
       "IsActiveMember         2\n",
       "EstimatedSalary     9999\n",
       "Exited                 2\n",
       "dtype: int64"
      ]
     },
     "execution_count": 11,
     "metadata": {},
     "output_type": "execute_result"
    }
   ],
   "source": [
    "churn_data.nunique()"
   ]
  },
  {
   "cell_type": "code",
   "execution_count": 12,
   "metadata": {
    "id": "tju6nHUMg3m-"
   },
   "outputs": [],
   "source": [
    "churn_data.drop(['CustomerId','Surname'],axis=1,inplace=True)"
   ]
  },
  {
   "cell_type": "code",
   "execution_count": 13,
   "metadata": {
    "colab": {
     "base_uri": "https://localhost:8080/",
     "height": 237
    },
    "executionInfo": {
     "elapsed": 9,
     "status": "ok",
     "timestamp": 1682924847763,
     "user": {
      "displayName": "KARNATI MOHAN",
      "userId": "16604712269571437600"
     },
     "user_tz": -330
    },
    "id": "PCjSyDI1hW1Z",
    "outputId": "12d527f4-e3d2-4460-e9a0-c06a4c44efd4"
   },
   "outputs": [
    {
     "data": {
      "text/html": [
       "<div>\n",
       "<style scoped>\n",
       "    .dataframe tbody tr th:only-of-type {\n",
       "        vertical-align: middle;\n",
       "    }\n",
       "\n",
       "    .dataframe tbody tr th {\n",
       "        vertical-align: top;\n",
       "    }\n",
       "\n",
       "    .dataframe thead th {\n",
       "        text-align: right;\n",
       "    }\n",
       "</style>\n",
       "<table border=\"1\" class=\"dataframe\">\n",
       "  <thead>\n",
       "    <tr style=\"text-align: right;\">\n",
       "      <th></th>\n",
       "      <th>CreditScore</th>\n",
       "      <th>Geography</th>\n",
       "      <th>Gender</th>\n",
       "      <th>Age</th>\n",
       "      <th>Tenure</th>\n",
       "      <th>Balance</th>\n",
       "      <th>NumOfProducts</th>\n",
       "      <th>HasCrCard</th>\n",
       "      <th>IsActiveMember</th>\n",
       "      <th>EstimatedSalary</th>\n",
       "      <th>Exited</th>\n",
       "    </tr>\n",
       "    <tr>\n",
       "      <th>RowNumber</th>\n",
       "      <th></th>\n",
       "      <th></th>\n",
       "      <th></th>\n",
       "      <th></th>\n",
       "      <th></th>\n",
       "      <th></th>\n",
       "      <th></th>\n",
       "      <th></th>\n",
       "      <th></th>\n",
       "      <th></th>\n",
       "      <th></th>\n",
       "    </tr>\n",
       "  </thead>\n",
       "  <tbody>\n",
       "    <tr>\n",
       "      <th>1</th>\n",
       "      <td>619</td>\n",
       "      <td>France</td>\n",
       "      <td>Female</td>\n",
       "      <td>42</td>\n",
       "      <td>2</td>\n",
       "      <td>0.0</td>\n",
       "      <td>1</td>\n",
       "      <td>1</td>\n",
       "      <td>1</td>\n",
       "      <td>101348.88</td>\n",
       "      <td>1</td>\n",
       "    </tr>\n",
       "  </tbody>\n",
       "</table>\n",
       "</div>"
      ],
      "text/plain": [
       "           CreditScore Geography  Gender  Age  Tenure  Balance  NumOfProducts  \\\n",
       "RowNumber                                                                       \n",
       "1                  619    France  Female   42       2      0.0              1   \n",
       "\n",
       "           HasCrCard  IsActiveMember  EstimatedSalary  Exited  \n",
       "RowNumber                                                      \n",
       "1                  1               1        101348.88       1  "
      ]
     },
     "execution_count": 13,
     "metadata": {},
     "output_type": "execute_result"
    }
   ],
   "source": [
    "churn_data.head(1)"
   ]
  },
  {
   "cell_type": "code",
   "execution_count": 14,
   "metadata": {
    "colab": {
     "base_uri": "https://localhost:8080/"
    },
    "executionInfo": {
     "elapsed": 6,
     "status": "ok",
     "timestamp": 1682924847763,
     "user": {
      "displayName": "KARNATI MOHAN",
      "userId": "16604712269571437600"
     },
     "user_tz": -330
    },
    "id": "tBV6ed5GhamH",
    "outputId": "5ca37817-e894-4cb1-d11e-f6cd0dbe1220"
   },
   "outputs": [
    {
     "data": {
      "text/plain": [
       "(10000, 11)"
      ]
     },
     "execution_count": 14,
     "metadata": {},
     "output_type": "execute_result"
    }
   ],
   "source": [
    "churn_data.shape"
   ]
  },
  {
   "cell_type": "markdown",
   "metadata": {
    "id": "7qf_YPYPidd5"
   },
   "source": [
    "# **Label Encoding of Categorical Variables**\n",
    "Label Encoding is a preprocessing technique used to convert categorical variables into numerical values. This transformation is essential because most machine learning algorithms require numerical input data to perform computations effectively.\n",
    "\n",
    "# ***Example:***\n",
    "Consider a dataset with a categorical feature named Height, which contains the values: Tall, Medium, and Short. To make this feature compatible with machine learning models, we apply label encoding. After encoding, the categorical values are mapped to integers as follows:\n",
    "\n",
    "# ***Tall → 0***\n",
    "\n",
    "# ***Medium → 1***\n",
    "\n",
    "# ***Short → 2***\n",
    "\n",
    "This transformation replaces the original categorical values with their corresponding numerical labels, enabling the feature to be used in machine learning workflows."
   ]
  },
  {
   "cell_type": "code",
   "execution_count": 15,
   "metadata": {
    "id": "G-vFcbdRif2q"
   },
   "outputs": [],
   "source": [
    "from sklearn.preprocessing import LabelEncoder\n",
    "le = LabelEncoder()\n",
    "churn_data[['Geography', 'Gender']] = churn_data[['Geography', 'Gender']].apply(le.fit_transform)"
   ]
  },
  {
   "cell_type": "code",
   "execution_count": 16,
   "metadata": {
    "colab": {
     "base_uri": "https://localhost:8080/",
     "height": 237
    },
    "executionInfo": {
     "elapsed": 10,
     "status": "ok",
     "timestamp": 1682924862810,
     "user": {
      "displayName": "KARNATI MOHAN",
      "userId": "16604712269571437600"
     },
     "user_tz": -330
    },
    "id": "t6TzxVDqija9",
    "outputId": "481b91ee-6af2-475c-ee5d-8ed199aa5be5"
   },
   "outputs": [
    {
     "data": {
      "text/html": [
       "<div>\n",
       "<style scoped>\n",
       "    .dataframe tbody tr th:only-of-type {\n",
       "        vertical-align: middle;\n",
       "    }\n",
       "\n",
       "    .dataframe tbody tr th {\n",
       "        vertical-align: top;\n",
       "    }\n",
       "\n",
       "    .dataframe thead th {\n",
       "        text-align: right;\n",
       "    }\n",
       "</style>\n",
       "<table border=\"1\" class=\"dataframe\">\n",
       "  <thead>\n",
       "    <tr style=\"text-align: right;\">\n",
       "      <th></th>\n",
       "      <th>CreditScore</th>\n",
       "      <th>Geography</th>\n",
       "      <th>Gender</th>\n",
       "      <th>Age</th>\n",
       "      <th>Tenure</th>\n",
       "      <th>Balance</th>\n",
       "      <th>NumOfProducts</th>\n",
       "      <th>HasCrCard</th>\n",
       "      <th>IsActiveMember</th>\n",
       "      <th>EstimatedSalary</th>\n",
       "      <th>Exited</th>\n",
       "    </tr>\n",
       "    <tr>\n",
       "      <th>RowNumber</th>\n",
       "      <th></th>\n",
       "      <th></th>\n",
       "      <th></th>\n",
       "      <th></th>\n",
       "      <th></th>\n",
       "      <th></th>\n",
       "      <th></th>\n",
       "      <th></th>\n",
       "      <th></th>\n",
       "      <th></th>\n",
       "      <th></th>\n",
       "    </tr>\n",
       "  </thead>\n",
       "  <tbody>\n",
       "    <tr>\n",
       "      <th>1</th>\n",
       "      <td>619</td>\n",
       "      <td>0</td>\n",
       "      <td>0</td>\n",
       "      <td>42</td>\n",
       "      <td>2</td>\n",
       "      <td>0.00</td>\n",
       "      <td>1</td>\n",
       "      <td>1</td>\n",
       "      <td>1</td>\n",
       "      <td>101348.88</td>\n",
       "      <td>1</td>\n",
       "    </tr>\n",
       "    <tr>\n",
       "      <th>2</th>\n",
       "      <td>608</td>\n",
       "      <td>2</td>\n",
       "      <td>0</td>\n",
       "      <td>41</td>\n",
       "      <td>1</td>\n",
       "      <td>83807.86</td>\n",
       "      <td>1</td>\n",
       "      <td>0</td>\n",
       "      <td>1</td>\n",
       "      <td>112542.58</td>\n",
       "      <td>0</td>\n",
       "    </tr>\n",
       "    <tr>\n",
       "      <th>3</th>\n",
       "      <td>502</td>\n",
       "      <td>0</td>\n",
       "      <td>0</td>\n",
       "      <td>42</td>\n",
       "      <td>8</td>\n",
       "      <td>159660.80</td>\n",
       "      <td>3</td>\n",
       "      <td>1</td>\n",
       "      <td>0</td>\n",
       "      <td>113931.57</td>\n",
       "      <td>1</td>\n",
       "    </tr>\n",
       "    <tr>\n",
       "      <th>4</th>\n",
       "      <td>699</td>\n",
       "      <td>0</td>\n",
       "      <td>0</td>\n",
       "      <td>39</td>\n",
       "      <td>1</td>\n",
       "      <td>0.00</td>\n",
       "      <td>2</td>\n",
       "      <td>0</td>\n",
       "      <td>0</td>\n",
       "      <td>93826.63</td>\n",
       "      <td>0</td>\n",
       "    </tr>\n",
       "    <tr>\n",
       "      <th>5</th>\n",
       "      <td>850</td>\n",
       "      <td>2</td>\n",
       "      <td>0</td>\n",
       "      <td>43</td>\n",
       "      <td>2</td>\n",
       "      <td>125510.82</td>\n",
       "      <td>1</td>\n",
       "      <td>1</td>\n",
       "      <td>1</td>\n",
       "      <td>79084.10</td>\n",
       "      <td>0</td>\n",
       "    </tr>\n",
       "  </tbody>\n",
       "</table>\n",
       "</div>"
      ],
      "text/plain": [
       "           CreditScore  Geography  Gender  Age  Tenure    Balance  \\\n",
       "RowNumber                                                           \n",
       "1                  619          0       0   42       2       0.00   \n",
       "2                  608          2       0   41       1   83807.86   \n",
       "3                  502          0       0   42       8  159660.80   \n",
       "4                  699          0       0   39       1       0.00   \n",
       "5                  850          2       0   43       2  125510.82   \n",
       "\n",
       "           NumOfProducts  HasCrCard  IsActiveMember  EstimatedSalary  Exited  \n",
       "RowNumber                                                                     \n",
       "1                      1          1               1        101348.88       1  \n",
       "2                      1          0               1        112542.58       0  \n",
       "3                      3          1               0        113931.57       1  \n",
       "4                      2          0               0         93826.63       0  \n",
       "5                      1          1               1         79084.10       0  "
      ]
     },
     "execution_count": 16,
     "metadata": {},
     "output_type": "execute_result"
    }
   ],
   "source": [
    "churn_data.head()"
   ]
  },
  {
   "cell_type": "markdown",
   "metadata": {
    "id": "RBhC2pV6kG-m"
   },
   "source": [
    "# **Seperating Label from Data**\n",
    "In a supervised learning problem, the dataset consists of features (input variables) and labels (target variable). Before training a model, we need to separate the labels from the rest of the data.\n",
    "\n",
    "# **This step ensures that:**\n",
    "✅ The model learns only from input features.\n",
    "\n",
    "✅ Labels are stored separately for supervised learning.\n",
    "\n",
    "✅ Data preprocessing and transformations are applied only to features, avoiding data leakage."
   ]
  },
  {
   "cell_type": "code",
   "execution_count": 17,
   "metadata": {
    "id": "CU-h5H-vilid"
   },
   "outputs": [],
   "source": [
    "y = churn_data.Exited\n",
    "X = churn_data.drop(['Exited'],axis=1)"
   ]
  },
  {
   "cell_type": "code",
   "execution_count": 18,
   "metadata": {
    "colab": {
     "base_uri": "https://localhost:8080/"
    },
    "executionInfo": {
     "elapsed": 9,
     "status": "ok",
     "timestamp": 1682924862810,
     "user": {
      "displayName": "KARNATI MOHAN",
      "userId": "16604712269571437600"
     },
     "user_tz": -330
    },
    "id": "doNxQbxXkrXv",
    "outputId": "68de4724-47ae-4da1-d6b0-14ba46802212"
   },
   "outputs": [
    {
     "data": {
      "text/plain": [
       "Index(['CreditScore', 'Geography', 'Gender', 'Age', 'Tenure', 'Balance',\n",
       "       'NumOfProducts', 'HasCrCard', 'IsActiveMember', 'EstimatedSalary'],\n",
       "      dtype='object')"
      ]
     },
     "execution_count": 18,
     "metadata": {},
     "output_type": "execute_result"
    }
   ],
   "source": [
    "X.columns"
   ]
  },
  {
   "cell_type": "code",
   "execution_count": 19,
   "metadata": {
    "colab": {
     "base_uri": "https://localhost:8080/"
    },
    "executionInfo": {
     "elapsed": 8,
     "status": "ok",
     "timestamp": 1682924862811,
     "user": {
      "displayName": "KARNATI MOHAN",
      "userId": "16604712269571437600"
     },
     "user_tz": -330
    },
    "id": "JxmY3LYgksbe",
    "outputId": "af2c46eb-0257-4cc6-e0d9-e4e0adc8317d"
   },
   "outputs": [
    {
     "data": {
      "text/plain": [
       "RowNumber\n",
       "1        1\n",
       "2        0\n",
       "3        1\n",
       "4        0\n",
       "5        0\n",
       "        ..\n",
       "9996     0\n",
       "9997     0\n",
       "9998     1\n",
       "9999     1\n",
       "10000    0\n",
       "Name: Exited, Length: 10000, dtype: int64"
      ]
     },
     "execution_count": 19,
     "metadata": {},
     "output_type": "execute_result"
    }
   ],
   "source": [
    "y"
   ]
  },
  {
   "cell_type": "markdown",
   "metadata": {
    "id": "OB8cY_fNk2KG"
   },
   "source": [
    "# **🔀 Splitting the Data into Training and Testing**\n",
    "Before training a machine learning model, it is essential to split the dataset into training and testing sets. This ensures that the model learns patterns from one portion of the data and is evaluated on unseen data, helping to assess its generalization ability.\n",
    "\n",
    "# **Why Split the Data?**\n",
    "✅ Prevents Overfitting – Ensures the model doesn’t just memorize the data but learns patterns.\n",
    "\n",
    "✅ Evaluates Performance – Helps measure accuracy, precision, recall, and other metrics on unseen data.\n",
    "\n",
    "✅ Improves Model Generalization – Ensures the model performs well on real-world data.\n",
    "\n",
    "Common Splitting Ratios\n",
    "80% Training / 20% Testing (Standard practice)\n",
    "70% Training / 30% Testing (For larger datasets)\n",
    "60% Training / 20% Validation / 20% Testing (When hyperparameter tuning is needed)"
   ]
  },
  {
   "cell_type": "code",
   "execution_count": 20,
   "metadata": {
    "id": "ONhh9fw5kunZ"
   },
   "outputs": [],
   "source": [
    "from sklearn.model_selection import train_test_split\n",
    "X_train, X_test, y_train, y_test = train_test_split(X, y, test_size = 0.3, random_state = 2)"
   ]
  },
  {
   "cell_type": "code",
   "execution_count": 21,
   "metadata": {
    "colab": {
     "base_uri": "https://localhost:8080/"
    },
    "executionInfo": {
     "elapsed": 2,
     "status": "ok",
     "timestamp": 1682924864767,
     "user": {
      "displayName": "KARNATI MOHAN",
      "userId": "16604712269571437600"
     },
     "user_tz": -330
    },
    "id": "n7QUNsrflJyd",
    "outputId": "8f2c74b8-5013-4fa1-98fc-c836e15f993e"
   },
   "outputs": [
    {
     "name": "stdout",
     "output_type": "stream",
     "text": [
      "Shape of the X_train (7000, 10)\n",
      "Shape of the X_test (3000, 10)\n",
      "Shape of the y_train (7000,)\n",
      "Shape of the y_test (3000,)\n"
     ]
    }
   ],
   "source": [
    "print(\"Shape of the X_train\", X_train.shape)\n",
    "print(\"Shape of the X_test\", X_test.shape)\n",
    "print(\"Shape of the y_train\", y_train.shape)\n",
    "print(\"Shape of the y_test\", y_test.shape)"
   ]
  },
  {
   "cell_type": "markdown",
   "metadata": {
    "id": "qRe4F-ZllGU0"
   },
   "source": [
    "# 🚀 Feature Scaling: Standardization vs. Min-Max Scaling  \n",
    "\n",
    "Feature scaling is a crucial step in data preprocessing that transforms numerical features into a standardized format to improve the performance of machine learning models. Two widely used methods for scaling data are **Z-Score Standardization** and **Min-Max Scaling**.\n",
    "\n",
    "## 📌 **Z-Score Standardization (Standardization)**  \n",
    "Z-Score standardization rescales data so that it has the properties of a standard normal distribution, where:  \n",
    "- **Mean (𝜇) = 0**  \n",
    "- **Standard deviation (𝜎) = 1**  \n",
    "\n",
    "The standardization formula is:  \n",
    "\\[\n",
    "z = \\frac{x - \\mu}{\\sigma}\n",
    "\\]  \n",
    "where:  \n",
    "- \\( x \\) is the original feature value  \n",
    "- \\( \\mu \\) is the mean of the feature  \n",
    "- \\( \\sigma \\) is the standard deviation  \n",
    "\n",
    "✅ **When to Use?**  \n",
    "- When data has different scales but follows a **Gaussian (normal) distribution**  \n",
    "- When using **distance-based algorithms** (e.g., SVM, k-NN, PCA)  \n",
    "\n",
    "---\n",
    "\n",
    "## 📌 **Min-Max Scaling (Normalization)**  \n",
    "Min-Max scaling (also known as **Normalization**) transforms data into a fixed range, typically **[0, 1]**. This ensures that all feature values are proportionally scaled.  \n",
    "\n",
    "The formula for Min-Max scaling is:  \n",
    "\\[\n",
    "X_{\\text{norm}} = \\frac{X_i - X_{\\min}}{X_{\\max} - X_{\\min}}\n",
    "\\]  \n",
    "where:  \n",
    "- \\( X_i \\) is the original feature value  \n",
    "- \\( X_{\\min} \\) and \\( X_{\\max} \\) are the minimum and maximum values of the feature  \n",
    "\n",
    "✅ **When to Use?**  \n",
    "- When data does **not follow a normal distribution**  \n",
    "- When **preserving relationships** between feature values is important  \n",
    "- Common in **image processing** (e.g., RGB pixel intensities scaled to [0, 255])  \n",
    "- Often required for **Neural Networks**, where data is typically scaled between **-1 and 1**  \n",
    "\n",
    "---\n",
    "\n",
    "## ⚖️ **Z-Score Standardization vs. Min-Max Scaling**  \n",
    "\n",
    "| Feature | Z-Score Standardization | Min-Max Scaling |\n",
    "|---------|------------------------|-----------------|\n",
    "| **Output Range** | Mean = 0, Std = 1 | Typically [0, 1] |\n",
    "| **Handles Outliers?** | ✅ Less affected | ❌ Sensitive to outliers |\n",
    "| **Best for** | Normally distributed data | Image processing, neural networks |\n",
    "| **Used in** | SVM, PCA, k-NN | CNNs, RGB data, constrained ranges |\n",
    "\n",
    "💡 **Key Takeaway:** There is no absolute rule for choosing between the two. It depends on the dataset and the machine learning algorithm used."
   ]
  },
  {
   "cell_type": "markdown",
   "metadata": {
    "id": "pygvgWtSPv2S"
   },
   "source": [
    "### **Why Normalization is Important?**  \n",
    "\n",
    "When working with datasets that contain features with vastly different scales, **normalization** is crucial to ensure fair and balanced analysis.  \n",
    "\n",
    "Consider a dataset with two features:  \n",
    "- **Age (\\(x_1\\))**: Ranges from **0 to 100**  \n",
    "- **Income (\\(x_2\\))**: Ranges from **20,000 to 500,000**  \n",
    "\n",
    "Since **income values are significantly larger** than age, any machine learning model (e.g., **multivariate linear regression**) will inherently assign **more weight** to income, simply because of its larger magnitude. This can lead to biased predictions, even though age might be equally or more important as a predictor.  \n",
    "\n",
    "### **Benefits of Normalization:**  \n",
    "✅ **Prevents one feature from dominating** the model due to scale differences  \n",
    "✅ **Speeds up gradient descent** in optimization algorithms  \n",
    "✅ **Improves model performance** by ensuring equal contribution from all features  \n",
    "✅ **Enhances numerical stability**, reducing computation errors  \n",
    "\n",
    "By applying **normalization** (e.g., **Min-Max Scaling** or **Z-score Standardization**), we bring all features to a **similar scale**, leading to **better, more reliable models**. 🚀"
   ]
  },
  {
   "cell_type": "code",
   "execution_count": 22,
   "metadata": {
    "id": "0tJwn52Wk9ty"
   },
   "outputs": [],
   "source": [
    "from sklearn.preprocessing import StandardScaler\n",
    "sc = StandardScaler()\n",
    "X_train = sc.fit_transform(X_train)\n",
    "X_test = sc.transform(X_test)"
   ]
  },
  {
   "cell_type": "markdown",
   "metadata": {
    "id": "N-18bjO3rOHB"
   },
   "source": [
    "# **Building the ANN Model**"
   ]
  },
  {
   "cell_type": "code",
   "execution_count": 23,
   "metadata": {
    "id": "lYWxtWt4lwsa",
    "outputId": "19604046-2818-4729-afcc-c6036d39ee4d"
   },
   "outputs": [
    {
     "name": "stderr",
     "output_type": "stream",
     "text": [
      "2025-02-04 09:39:22.431419: E external/local_xla/xla/stream_executor/cuda/cuda_dnn.cc:9373] Unable to register cuDNN factory: Attempting to register factory for plugin cuDNN when one has already been registered\n",
      "2025-02-04 09:39:22.431734: E external/local_xla/xla/stream_executor/cuda/cuda_fft.cc:607] Unable to register cuFFT factory: Attempting to register factory for plugin cuFFT when one has already been registered\n",
      "2025-02-04 09:39:22.464085: E external/local_xla/xla/stream_executor/cuda/cuda_blas.cc:1534] Unable to register cuBLAS factory: Attempting to register factory for plugin cuBLAS when one has already been registered\n",
      "2025-02-04 09:39:22.548645: I tensorflow/core/platform/cpu_feature_guard.cc:183] This TensorFlow binary is optimized to use available CPU instructions in performance-critical operations.\n",
      "To enable the following instructions: SSE3 SSE4.1 SSE4.2 AVX, in other operations, rebuild TensorFlow with the appropriate compiler flags.\n"
     ]
    }
   ],
   "source": [
    "# sequential model to initialise our ann and dense module to build the layers\n",
    "from keras.models import Sequential\n",
    "from keras.layers import Dense"
   ]
  },
  {
   "cell_type": "code",
   "execution_count": 24,
   "metadata": {
    "id": "5SHVdj9Xl6se",
    "outputId": "e1e65bbd-7075-455e-df8a-2a515001d921"
   },
   "outputs": [
    {
     "name": "stderr",
     "output_type": "stream",
     "text": [
      "2025-02-04 09:39:25.335430: I tensorflow/core/common_runtime/gpu/gpu_device.cc:1926] Created device /job:localhost/replica:0/task:0/device:GPU:0 with 17947 MB memory:  -> device: 0, name: NVIDIA A100-SXM4-40GB MIG 3g.20gb, pci bus id: 0000:b7:00.0, compute capability: 8.0\n"
     ]
    }
   ],
   "source": [
    "classifier = Sequential()\n",
    "# Adding the input layer and the first hidden layer\n",
    "classifier.add(Dense(units = 8, kernel_initializer = 'uniform', activation = 'relu', input_dim = 10))\n",
    "\n",
    "# Adding the second hidden layer\n",
    "classifier.add(Dense(units = 16, kernel_initializer = 'uniform', activation = 'relu'))\n",
    "\n",
    "# Adding the output layer\n",
    "classifier.add(Dense(units = 1, kernel_initializer = 'uniform', activation = 'sigmoid'))"
   ]
  },
  {
   "cell_type": "markdown",
   "metadata": {},
   "source": [
    "### **Neural Network Model Description**  \n",
    "\n",
    "This code defines a **Sequential Neural Network** using **Keras** for binary classification. The model consists of **one input layer, two hidden layers, and one output layer**.  \n",
    "\n",
    "#### **📌 Layers Breakdown**  \n",
    "\n",
    "1️⃣ **Input & First Hidden Layer**  \n",
    "   ```python\n",
    "   classifier.add(Dense(units=8, kernel_initializer='uniform', activation='relu', input_dim=10))\n",
    "   ```\n",
    "   - **`input_dim=10`**: The input layer expects **10 features**.  \n",
    "   - **`units=8`**: First hidden layer contains **8 neurons**.  \n",
    "   - **`activation='relu'`**: Uses **ReLU (Rectified Linear Unit)** activation for non-linearity.  \n",
    "   - **`kernel_initializer='uniform'`**: Weights are initialized uniformly.  \n",
    "\n",
    "2️⃣ **Second Hidden Layer**  \n",
    "   ```python\n",
    "   classifier.add(Dense(units=16, kernel_initializer='uniform', activation='relu'))\n",
    "   ```\n",
    "   - **`units=16`**: Second hidden layer has **16 neurons**.  \n",
    "   - **ReLU activation** continues to introduce non-linearity.  \n",
    "\n",
    "3️⃣ **Output Layer**  \n",
    "   ```python\n",
    "   classifier.add(Dense(units=1, kernel_initializer='uniform', activation='sigmoid'))\n",
    "   ```\n",
    "   - **`units=1`**: The output layer has **1 neuron** for **binary classification**.  \n",
    "   - **`activation='sigmoid'`**: The **sigmoid** function outputs probabilities between **0 and 1**.  \n",
    "\n",
    "#### **💡 Key Takeaways**  \n",
    "✅ Uses **ReLU activation** in hidden layers for better gradient propagation.  \n",
    "✅ **Sigmoid activation** in the output layer for binary classification.  \n",
    "✅ **Uniform weight initialization** ensures a stable start to training.  \n",
    "\n",
    "This model is suitable for **binary classification problems**, such as predicting customer churn, fraud detection, or medical diagnoses. 🚀  "
   ]
  },
  {
   "cell_type": "markdown",
   "metadata": {
    "id": "MDjrKcLnrSw0"
   },
   "source": [
    "# **Compiling and Fitting the Model**\n",
    "\n",
    "\n",
    "### **Artificial Neural Network (ANN) Model Training – Churn Prediction**  \n",
    "\n",
    "In this step, we **compile and train an Artificial Neural Network (ANN)** to predict customer churn.  \n",
    "\n",
    "- **Optimizer:** `'adam'` → Adaptive Moment Estimation for efficient weight updates.  \n",
    "- **Loss Function:** `'binary_crossentropy'` → Suitable for binary classification tasks like churn prediction.  \n",
    "- **Metrics:** `['accuracy']` → Evaluates how well the model predicts churn.  \n",
    "\n",
    "#### **🔹 Model Training**  \n",
    "- **Training Data:** `X_train` (features), `y_train` (labels).  \n",
    "- **Batch Size:** `10` → The model updates weights after every 10 samples.  \n",
    "- **Epochs:** `100` → The dataset is passed through the network 100 times.  \n",
    "- **Verbose:** `1` → Displays real-time training progress.  \n",
    "\n",
    "The model learns patterns in the data and adjusts weights to minimize loss, improving its ability to predict customer churn. 🚀  "
   ]
  },
  {
   "cell_type": "code",
   "execution_count": 25,
   "metadata": {
    "colab": {
     "base_uri": "https://localhost:8080/"
    },
    "executionInfo": {
     "elapsed": 227819,
     "status": "ok",
     "timestamp": 1682925101166,
     "user": {
      "displayName": "KARNATI MOHAN",
      "userId": "16604712269571437600"
     },
     "user_tz": -330
    },
    "id": "RRtVuxFumFcS",
    "outputId": "9fc4f272-5ecb-4994-ad94-35a3c2ba0d3a"
   },
   "outputs": [
    {
     "name": "stdout",
     "output_type": "stream",
     "text": [
      "Epoch 1/100\n"
     ]
    },
    {
     "name": "stderr",
     "output_type": "stream",
     "text": [
      "2025-02-04 09:39:27.217123: I external/local_xla/xla/service/service.cc:168] XLA service 0x7f0cd31d4c80 initialized for platform CUDA (this does not guarantee that XLA will be used). Devices:\n",
      "2025-02-04 09:39:27.217177: I external/local_xla/xla/service/service.cc:176]   StreamExecutor device (0): NVIDIA A100-SXM4-40GB MIG 3g.20gb, Compute Capability 8.0\n",
      "2025-02-04 09:39:27.229188: I tensorflow/compiler/mlir/tensorflow/utils/dump_mlir_util.cc:269] disabling MLIR crash reproducer, set env var `MLIR_CRASH_REPRODUCER_DIRECTORY` to enable.\n",
      "2025-02-04 09:39:27.298202: I external/local_xla/xla/stream_executor/cuda/cuda_dnn.cc:467] Loaded cuDNN version 90100\n",
      "WARNING: All log messages before absl::InitializeLog() is called are written to STDERR\n",
      "I0000 00:00:1738661967.398600    1314 device_compiler.h:186] Compiled cluster using XLA!  This line is logged at most once for the lifetime of the process.\n"
     ]
    },
    {
     "name": "stdout",
     "output_type": "stream",
     "text": [
      "700/700 [==============================] - 3s 2ms/step - loss: 0.4751 - accuracy: 0.7924\n",
      "Epoch 2/100\n",
      "700/700 [==============================] - 1s 2ms/step - loss: 0.4322 - accuracy: 0.7926\n",
      "Epoch 3/100\n",
      "700/700 [==============================] - 1s 2ms/step - loss: 0.4252 - accuracy: 0.8066\n",
      "Epoch 4/100\n",
      "700/700 [==============================] - 1s 2ms/step - loss: 0.4185 - accuracy: 0.8264\n",
      "Epoch 5/100\n",
      "700/700 [==============================] - 1s 2ms/step - loss: 0.4127 - accuracy: 0.8300\n",
      "Epoch 6/100\n",
      "700/700 [==============================] - 1s 2ms/step - loss: 0.4095 - accuracy: 0.8314\n",
      "Epoch 7/100\n",
      "700/700 [==============================] - 1s 2ms/step - loss: 0.4063 - accuracy: 0.8327\n",
      "Epoch 8/100\n",
      "700/700 [==============================] - 1s 2ms/step - loss: 0.4031 - accuracy: 0.8319\n",
      "Epoch 9/100\n",
      "700/700 [==============================] - 1s 2ms/step - loss: 0.4028 - accuracy: 0.8331\n",
      "Epoch 10/100\n",
      "700/700 [==============================] - 1s 2ms/step - loss: 0.4014 - accuracy: 0.8340\n",
      "Epoch 11/100\n",
      "700/700 [==============================] - 1s 2ms/step - loss: 0.4004 - accuracy: 0.8346\n",
      "Epoch 12/100\n",
      "700/700 [==============================] - 1s 2ms/step - loss: 0.3985 - accuracy: 0.8349\n",
      "Epoch 13/100\n",
      "700/700 [==============================] - 1s 2ms/step - loss: 0.3972 - accuracy: 0.8364\n",
      "Epoch 14/100\n",
      "700/700 [==============================] - 1s 2ms/step - loss: 0.3966 - accuracy: 0.8354\n",
      "Epoch 15/100\n",
      "700/700 [==============================] - 1s 2ms/step - loss: 0.3965 - accuracy: 0.8353\n",
      "Epoch 16/100\n",
      "700/700 [==============================] - 1s 2ms/step - loss: 0.3951 - accuracy: 0.8366\n",
      "Epoch 17/100\n",
      "700/700 [==============================] - 1s 2ms/step - loss: 0.3946 - accuracy: 0.8396\n",
      "Epoch 18/100\n",
      "700/700 [==============================] - 1s 2ms/step - loss: 0.3944 - accuracy: 0.8371\n",
      "Epoch 19/100\n",
      "700/700 [==============================] - 1s 2ms/step - loss: 0.3942 - accuracy: 0.8383\n",
      "Epoch 20/100\n",
      "700/700 [==============================] - 1s 2ms/step - loss: 0.3929 - accuracy: 0.8397\n",
      "Epoch 21/100\n",
      "700/700 [==============================] - 1s 2ms/step - loss: 0.3927 - accuracy: 0.8393\n",
      "Epoch 22/100\n",
      "700/700 [==============================] - 1s 2ms/step - loss: 0.3938 - accuracy: 0.8366\n",
      "Epoch 23/100\n",
      "700/700 [==============================] - 1s 2ms/step - loss: 0.3924 - accuracy: 0.8397\n",
      "Epoch 24/100\n",
      "700/700 [==============================] - 1s 2ms/step - loss: 0.3935 - accuracy: 0.8379\n",
      "Epoch 25/100\n",
      "700/700 [==============================] - 1s 2ms/step - loss: 0.3923 - accuracy: 0.8394\n",
      "Epoch 26/100\n",
      "700/700 [==============================] - 1s 2ms/step - loss: 0.3921 - accuracy: 0.8379\n",
      "Epoch 27/100\n",
      "700/700 [==============================] - 1s 2ms/step - loss: 0.3915 - accuracy: 0.8381\n",
      "Epoch 28/100\n",
      "700/700 [==============================] - 1s 2ms/step - loss: 0.3928 - accuracy: 0.8367\n",
      "Epoch 29/100\n",
      "700/700 [==============================] - 1s 2ms/step - loss: 0.3914 - accuracy: 0.8384\n",
      "Epoch 30/100\n",
      "700/700 [==============================] - 1s 2ms/step - loss: 0.3925 - accuracy: 0.8386\n",
      "Epoch 31/100\n",
      "700/700 [==============================] - 1s 2ms/step - loss: 0.3919 - accuracy: 0.8394\n",
      "Epoch 32/100\n",
      "700/700 [==============================] - 1s 2ms/step - loss: 0.3918 - accuracy: 0.8391\n",
      "Epoch 33/100\n",
      "700/700 [==============================] - 1s 2ms/step - loss: 0.3918 - accuracy: 0.8386\n",
      "Epoch 34/100\n",
      "700/700 [==============================] - 1s 2ms/step - loss: 0.3910 - accuracy: 0.8384\n",
      "Epoch 35/100\n",
      "700/700 [==============================] - 1s 2ms/step - loss: 0.3914 - accuracy: 0.8403\n",
      "Epoch 36/100\n",
      "700/700 [==============================] - 1s 2ms/step - loss: 0.3905 - accuracy: 0.8401\n",
      "Epoch 37/100\n",
      "700/700 [==============================] - 1s 2ms/step - loss: 0.3913 - accuracy: 0.8383\n",
      "Epoch 38/100\n",
      "700/700 [==============================] - 1s 2ms/step - loss: 0.3910 - accuracy: 0.8390\n",
      "Epoch 39/100\n",
      "700/700 [==============================] - 1s 2ms/step - loss: 0.3914 - accuracy: 0.8381\n",
      "Epoch 40/100\n",
      "700/700 [==============================] - 1s 2ms/step - loss: 0.3906 - accuracy: 0.8389\n",
      "Epoch 41/100\n",
      "700/700 [==============================] - 1s 2ms/step - loss: 0.3908 - accuracy: 0.8404\n",
      "Epoch 42/100\n",
      "700/700 [==============================] - 1s 2ms/step - loss: 0.3913 - accuracy: 0.8380\n",
      "Epoch 43/100\n",
      "700/700 [==============================] - 1s 2ms/step - loss: 0.3903 - accuracy: 0.8400\n",
      "Epoch 44/100\n",
      "700/700 [==============================] - 1s 2ms/step - loss: 0.3904 - accuracy: 0.8386\n",
      "Epoch 45/100\n",
      "700/700 [==============================] - 1s 2ms/step - loss: 0.3907 - accuracy: 0.8379\n",
      "Epoch 46/100\n",
      "700/700 [==============================] - 1s 2ms/step - loss: 0.3906 - accuracy: 0.8386\n",
      "Epoch 47/100\n",
      "700/700 [==============================] - 1s 2ms/step - loss: 0.3910 - accuracy: 0.8367\n",
      "Epoch 48/100\n",
      "700/700 [==============================] - 1s 2ms/step - loss: 0.3905 - accuracy: 0.8383\n",
      "Epoch 49/100\n",
      "700/700 [==============================] - 1s 2ms/step - loss: 0.3903 - accuracy: 0.8410\n",
      "Epoch 50/100\n",
      "700/700 [==============================] - 1s 2ms/step - loss: 0.3909 - accuracy: 0.8373\n",
      "Epoch 51/100\n",
      "700/700 [==============================] - 1s 2ms/step - loss: 0.3910 - accuracy: 0.8394\n",
      "Epoch 52/100\n",
      "700/700 [==============================] - 1s 2ms/step - loss: 0.3905 - accuracy: 0.8397\n",
      "Epoch 53/100\n",
      "700/700 [==============================] - 1s 2ms/step - loss: 0.3899 - accuracy: 0.8381\n",
      "Epoch 54/100\n",
      "700/700 [==============================] - 1s 2ms/step - loss: 0.3900 - accuracy: 0.8380\n",
      "Epoch 55/100\n",
      "700/700 [==============================] - 1s 2ms/step - loss: 0.3907 - accuracy: 0.8386\n",
      "Epoch 56/100\n",
      "700/700 [==============================] - 1s 2ms/step - loss: 0.3901 - accuracy: 0.8377\n",
      "Epoch 57/100\n",
      "700/700 [==============================] - 1s 2ms/step - loss: 0.3902 - accuracy: 0.8380\n",
      "Epoch 58/100\n",
      "700/700 [==============================] - 1s 2ms/step - loss: 0.3903 - accuracy: 0.8369\n",
      "Epoch 59/100\n",
      "700/700 [==============================] - 1s 2ms/step - loss: 0.3898 - accuracy: 0.8389\n",
      "Epoch 60/100\n",
      "700/700 [==============================] - 1s 2ms/step - loss: 0.3900 - accuracy: 0.8394\n",
      "Epoch 61/100\n",
      "700/700 [==============================] - 1s 2ms/step - loss: 0.3902 - accuracy: 0.8394\n",
      "Epoch 62/100\n",
      "700/700 [==============================] - 1s 2ms/step - loss: 0.3901 - accuracy: 0.8396\n",
      "Epoch 63/100\n",
      "700/700 [==============================] - 1s 2ms/step - loss: 0.3896 - accuracy: 0.8390\n",
      "Epoch 64/100\n",
      "700/700 [==============================] - 1s 2ms/step - loss: 0.3897 - accuracy: 0.8369\n",
      "Epoch 65/100\n",
      "700/700 [==============================] - 1s 2ms/step - loss: 0.3898 - accuracy: 0.8387\n",
      "Epoch 66/100\n",
      "700/700 [==============================] - 1s 2ms/step - loss: 0.3896 - accuracy: 0.8379\n",
      "Epoch 67/100\n",
      "700/700 [==============================] - 1s 2ms/step - loss: 0.3895 - accuracy: 0.8393\n",
      "Epoch 68/100\n",
      "700/700 [==============================] - 1s 2ms/step - loss: 0.3900 - accuracy: 0.8369\n",
      "Epoch 69/100\n",
      "700/700 [==============================] - 1s 2ms/step - loss: 0.3895 - accuracy: 0.8373\n",
      "Epoch 70/100\n",
      "700/700 [==============================] - 1s 2ms/step - loss: 0.3890 - accuracy: 0.8389\n",
      "Epoch 71/100\n",
      "700/700 [==============================] - 1s 2ms/step - loss: 0.3892 - accuracy: 0.8396\n",
      "Epoch 72/100\n",
      "700/700 [==============================] - 1s 2ms/step - loss: 0.3892 - accuracy: 0.8391\n",
      "Epoch 73/100\n",
      "700/700 [==============================] - 1s 2ms/step - loss: 0.3894 - accuracy: 0.8390\n",
      "Epoch 74/100\n",
      "700/700 [==============================] - 1s 2ms/step - loss: 0.3885 - accuracy: 0.8410\n",
      "Epoch 75/100\n",
      "700/700 [==============================] - 1s 2ms/step - loss: 0.3891 - accuracy: 0.8400\n",
      "Epoch 76/100\n",
      "700/700 [==============================] - 1s 2ms/step - loss: 0.3888 - accuracy: 0.8373\n",
      "Epoch 77/100\n",
      "700/700 [==============================] - 1s 2ms/step - loss: 0.3888 - accuracy: 0.8384\n",
      "Epoch 78/100\n",
      "700/700 [==============================] - 1s 2ms/step - loss: 0.3890 - accuracy: 0.8389\n",
      "Epoch 79/100\n",
      "700/700 [==============================] - 1s 2ms/step - loss: 0.3883 - accuracy: 0.8416\n",
      "Epoch 80/100\n",
      "700/700 [==============================] - 1s 2ms/step - loss: 0.3887 - accuracy: 0.8393\n",
      "Epoch 81/100\n",
      "700/700 [==============================] - 1s 2ms/step - loss: 0.3875 - accuracy: 0.8403\n",
      "Epoch 82/100\n",
      "700/700 [==============================] - 1s 2ms/step - loss: 0.3879 - accuracy: 0.8407\n",
      "Epoch 83/100\n",
      "700/700 [==============================] - 1s 2ms/step - loss: 0.3881 - accuracy: 0.8413\n",
      "Epoch 84/100\n",
      "700/700 [==============================] - 1s 2ms/step - loss: 0.3880 - accuracy: 0.8399\n",
      "Epoch 85/100\n",
      "700/700 [==============================] - 1s 2ms/step - loss: 0.3886 - accuracy: 0.8406\n",
      "Epoch 86/100\n",
      "700/700 [==============================] - 1s 2ms/step - loss: 0.3874 - accuracy: 0.8411\n",
      "Epoch 87/100\n",
      "700/700 [==============================] - 1s 2ms/step - loss: 0.3875 - accuracy: 0.8389\n",
      "Epoch 88/100\n",
      "700/700 [==============================] - 1s 2ms/step - loss: 0.3869 - accuracy: 0.8406\n",
      "Epoch 89/100\n",
      "700/700 [==============================] - 1s 2ms/step - loss: 0.3862 - accuracy: 0.8426\n",
      "Epoch 90/100\n",
      "700/700 [==============================] - 1s 2ms/step - loss: 0.3865 - accuracy: 0.8421\n",
      "Epoch 91/100\n",
      "700/700 [==============================] - 1s 2ms/step - loss: 0.3865 - accuracy: 0.8414\n",
      "Epoch 92/100\n",
      "700/700 [==============================] - 1s 2ms/step - loss: 0.3853 - accuracy: 0.8419\n",
      "Epoch 93/100\n",
      "700/700 [==============================] - 1s 2ms/step - loss: 0.3857 - accuracy: 0.8417\n",
      "Epoch 94/100\n",
      "700/700 [==============================] - 1s 2ms/step - loss: 0.3846 - accuracy: 0.8429\n",
      "Epoch 95/100\n",
      "700/700 [==============================] - 1s 2ms/step - loss: 0.3853 - accuracy: 0.8419\n",
      "Epoch 96/100\n",
      "700/700 [==============================] - 1s 2ms/step - loss: 0.3844 - accuracy: 0.8406\n",
      "Epoch 97/100\n",
      "700/700 [==============================] - 1s 2ms/step - loss: 0.3835 - accuracy: 0.8427\n",
      "Epoch 98/100\n",
      "700/700 [==============================] - 1s 2ms/step - loss: 0.3842 - accuracy: 0.8414\n",
      "Epoch 99/100\n",
      "700/700 [==============================] - 1s 2ms/step - loss: 0.3829 - accuracy: 0.8414\n",
      "Epoch 100/100\n",
      "700/700 [==============================] - 1s 2ms/step - loss: 0.3824 - accuracy: 0.8426\n"
     ]
    },
    {
     "data": {
      "text/plain": [
       "<keras.src.callbacks.History at 0x7f165a7714b0>"
      ]
     },
     "execution_count": 25,
     "metadata": {},
     "output_type": "execute_result"
    }
   ],
   "source": [
    "classifier.compile(optimizer = 'adam', loss = 'binary_crossentropy', metrics = ['accuracy'])\n",
    "\n",
    "# Fitting the ANN to the Training set\n",
    "classifier.fit(X_train, y_train, batch_size = 10, epochs = 100, verbose = 1)"
   ]
  },
  {
   "cell_type": "markdown",
   "metadata": {
    "id": "55PgRgP0rZ8A"
   },
   "source": [
    "# **Testing the Model**"
   ]
  },
  {
   "cell_type": "code",
   "execution_count": 26,
   "metadata": {
    "colab": {
     "base_uri": "https://localhost:8080/"
    },
    "executionInfo": {
     "elapsed": 6109,
     "status": "ok",
     "timestamp": 1682925107259,
     "user": {
      "displayName": "KARNATI MOHAN",
      "userId": "16604712269571437600"
     },
     "user_tz": -330
    },
    "id": "VPqoEf0VmVx0",
    "outputId": "3e4c98e0-d758-4f4c-819d-37bc01c7bfed"
   },
   "outputs": [
    {
     "name": "stdout",
     "output_type": "stream",
     "text": [
      "700/700 [==============================] - 1s 1ms/step - loss: 0.3779 - accuracy: 0.8437\n",
      "Train score: 0.3779335916042328\n",
      "Train accuracy: 0.8437142968177795\n",
      "94/94 [==============================] - 0s 807us/step\n",
      "********************\n",
      "300/300 [==============================] - 0s 1ms/step - loss: 0.3986 - accuracy: 0.8410\n",
      "Test score: 0.39862626791000366\n",
      "Test accuracy: 0.8410000205039978\n"
     ]
    }
   ],
   "source": [
    "score, acc = classifier.evaluate(X_train, y_train,\n",
    "                            batch_size=10)\n",
    "print('Train score:', score)\n",
    "print('Train accuracy:', acc)\n",
    "\n",
    "# Predicting the Test set results\n",
    "y_pred = classifier.predict(X_test)\n",
    "y_pred = (y_pred > 0.5)\n",
    "\n",
    "print('*'*20)\n",
    "score, acc = classifier.evaluate(X_test, y_test,\n",
    "                            batch_size=10)\n",
    "print('Test score:', score)\n",
    "print('Test accuracy:', acc)"
   ]
  },
  {
   "cell_type": "markdown",
   "metadata": {
    "id": "zLS1Qv2Yrfj4"
   },
   "source": [
    "# **Confusion Matrix & Accuracy in Machine Learning**  \n",
    "\n",
    "## 🔍 **Confusion Matrix**  \n",
    "A **confusion matrix** is a table used to evaluate the performance of a classification model. It provides a breakdown of correct and incorrect predictions across different classes, helping to assess the model’s strengths and weaknesses.  \n",
    "\n",
    "A typical confusion matrix for a **binary classification** problem looks like this:  \n",
    "\n",
    "|                  | Predicted Positive | Predicted Negative |\n",
    "|------------------|------------------|------------------|\n",
    "| **Actual Positive** | True Positive (TP) | False Negative (FN) |\n",
    "| **Actual Negative** | False Positive (FP) | True Negative (TN) |\n",
    "\n",
    "- **True Positives (TP):** Correctly predicted positive cases  \n",
    "- **True Negatives (TN):** Correctly predicted negative cases  \n",
    "- **False Positives (FP):** Incorrectly predicted positives (Type I error)  \n",
    "- **False Negatives (FN):** Incorrectly predicted negatives (Type II error)  \n",
    "\n",
    "## 📊 **Accuracy**  \n",
    "Accuracy is one of the most commonly used metrics for classification models. It measures the proportion of correctly predicted instances out of the total dataset:  \n",
    "\n",
    "\\[\n",
    "Accuracy = \\frac{TP + TN}{TP + TN + FP + FN}\n",
    "\\]\n",
    "\n",
    "Where:  \n",
    "- **TP + TN** → Correct predictions  \n",
    "- **FP + FN** → Incorrect predictions  \n",
    "\n",
    "### ⚠ **When is Accuracy Misleading?**  \n",
    "- If the dataset is **imbalanced** (e.g., 95% of cases belong to one class), a model might predict the majority class most of the time and still have **high accuracy**, but perform poorly overall.  \n",
    "- In such cases, metrics like **Precision, Recall, and F1-score** provide a more balanced evaluation.  "
   ]
  },
  {
   "cell_type": "code",
   "execution_count": 27,
   "metadata": {
    "id": "kf2vqlsamx7r",
    "outputId": "419f732d-8417-4dd2-879d-509029f5e90d"
   },
   "outputs": [
    {
     "name": "stdout",
     "output_type": "stream",
     "text": [
      "[[2334   81]\n",
      " [ 396  189]]\n"
     ]
    }
   ],
   "source": [
    "# Making the Confusion Matrix\n",
    "from sklearn.metrics import confusion_matrix\n",
    "target_names = ['Retained', 'Closed']\n",
    "cm = confusion_matrix(y_test, y_pred)\n",
    "print(cm)"
   ]
  },
  {
   "cell_type": "code",
   "execution_count": 29,
   "metadata": {
    "id": "EQPEuDuBnkgN"
   },
   "outputs": [],
   "source": [
    "import matplotlib.pyplot as plt\n",
    "import seaborn as sns"
   ]
  },
  {
   "cell_type": "code",
   "execution_count": 30,
   "metadata": {
    "colab": {
     "base_uri": "https://localhost:8080/",
     "height": 526
    },
    "executionInfo": {
     "elapsed": 21,
     "status": "ok",
     "timestamp": 1682925107260,
     "user": {
      "displayName": "KARNATI MOHAN",
      "userId": "16604712269571437600"
     },
     "user_tz": -330
    },
    "id": "ZE0yRVvRm4ng",
    "outputId": "d2947152-ef58-453f-eb09-6e59c29c2d73"
   },
   "outputs": [
    {
     "data": {
      "text/plain": [
       "Text(0.5, 23.52222222222222, 'Predicted label')"
      ]
     },
     "execution_count": 30,
     "metadata": {},
     "output_type": "execute_result"
    },
    {
     "data": {
      "image/png": "[encoded data removed]",
      "text/plain": [
       "<Figure size 640x480 with 2 Axes>"
      ]
     },
     "metadata": {},
     "output_type": "display_data"
    }
   ],
   "source": [
    "p = sns.heatmap(pd.DataFrame(cm), annot=True, xticklabels=target_names, yticklabels=target_names, cmap=\"YlGnBu\" ,fmt='g')\n",
    "plt.title('Confusion matrix', y=1.1)\n",
    "plt.ylabel('Actual label')\n",
    "plt.xlabel('Predicted label')"
   ]
  },
  {
   "cell_type": "markdown",
   "metadata": {
    "id": "vA-IrzYPrkah"
   },
   "source": [
    "# 📊 **Classification Report Overview**  \n",
    "\n",
    "In Artificial Intelligence, a **classification report** provides a detailed performance evaluation of a model's predictions. It includes key metrics that help assess the model's ability to classify data accurately. Below are the essential components of a classification report:\n",
    "\n",
    "---\n",
    "\n",
    "### **✅ True Positive Rate (Recall / Sensitivity)**  \n",
    "The **True Positive Rate (TPR)** measures the proportion of actual **positive** cases that the model correctly identifies.  \n",
    "\n",
    "🔹 **Formula:**  \n",
    "\\[\n",
    "TPR = \\frac{\\text{True Positives}}{\\text{True Positives} + \\text{False Negatives}}\n",
    "\\]  \n",
    "🔹 **Interpretation:**  \n",
    "- A high recall means the model correctly captures most of the actual positive cases.  \n",
    "- Useful in scenarios where missing a positive instance is costly (e.g., medical diagnoses).  \n",
    "\n",
    "---\n",
    "\n",
    "### **✅ Positive Predictive Value (Precision)**  \n",
    "The **Positive Predictive Value (PPV)**, or **Precision**, evaluates how many of the predicted **positive** cases are actually correct.  \n",
    "\n",
    "🔹 **Formula:**  \n",
    "\\[\n",
    "PPV = \\frac{\\text{True Positives}}{\\text{True Positives} + \\text{False Positives}}\n",
    "\\]  \n",
    "🔹 **Interpretation:**  \n",
    "- High precision means fewer false positives.  \n",
    "- Important when false positives have significant consequences (e.g., spam detection).  \n",
    "\n",
    "---\n",
    "\n",
    "### **✅ F1 Score**  \n",
    "The **F1 Score** is the **harmonic mean** of Precision and Recall, balancing both metrics.  \n",
    "\n",
    "🔹 **Formula:**  \n",
    "\\[\n",
    "F1 = 2 \\times \\frac{\\text{Precision} \\times \\text{Recall}}{\\text{Precision} + \\text{Recall}}\n",
    "\\]  \n",
    "🔹 **Interpretation:**  \n",
    "- The F1 score provides a single value to assess the model’s overall classification performance.  \n",
    "- Useful when there is an **imbalance** between positive and negative classes.  \n",
    "\n",
    "---\n",
    "\n",
    "### **🚀 Why These Metrics Matter?**  \n",
    "- **Recall (TPR):** Focuses on minimizing false negatives.  \n",
    "- **Precision (PPV):** Focuses on minimizing false positives.  \n",
    "- **F1 Score:** Provides a balanced evaluation when both metrics are important.  \n",
    "\n",
    "These metrics help determine how well a classifier is performing, especially in **imbalanced datasets** where accuracy alone can be misleading.  "
   ]
  },
  {
   "cell_type": "code",
   "execution_count": null,
   "metadata": {
    "colab": {
     "base_uri": "https://localhost:8080/"
    },
    "executionInfo": {
     "elapsed": 813,
     "status": "ok",
     "timestamp": 1682925145842,
     "user": {
      "displayName": "KARNATI MOHAN",
      "userId": "16604712269571437600"
     },
     "user_tz": -330
    },
    "id": "h9PnAQtCm7wC",
    "outputId": "d2e72331-81fe-437f-eb03-1463bc186e95"
   },
   "outputs": [],
   "source": [
    "#import classification_report\n",
    "from sklearn.metrics import classification_report\n",
    "print(classification_report(y_test,y_pred, target_names=target_names))"
   ]
  },
  {
   "cell_type": "markdown",
   "metadata": {
    "id": "m4WoHrjxrooT"
   },
   "source": [
    "#**ROC curve**"
   ]
  },
  {
   "cell_type": "code",
   "execution_count": null,
   "metadata": {
    "colab": {
     "base_uri": "https://localhost:8080/",
     "height": 489
    },
    "executionInfo": {
     "elapsed": 2094,
     "status": "ok",
     "timestamp": 1682925347985,
     "user": {
      "displayName": "KARNATI MOHAN",
      "userId": "16604712269571437600"
     },
     "user_tz": -330
    },
    "id": "6t01_ocrm-zD",
    "outputId": "795211e3-a5bb-452a-c2aa-8dd636c00fb8"
   },
   "outputs": [],
   "source": [
    "from sklearn.metrics import roc_curve, auc\n",
    "y_pred_proba = classifier.predict(X_test)\n",
    "fpr, tpr, thresholds = roc_curve(y_test, y_pred_proba)\n",
    "roc_auc = auc(fpr, tpr)\n",
    "plt.plot([0,1],[0,1],'k--')\n",
    "plt.plot(fpr,tpr, label='AUC (area = %0.2f)' % roc_auc)\n",
    "plt.xlabel('fpr')\n",
    "plt.ylabel('tpr')\n",
    "plt.grid()\n",
    "plt.legend(loc=\"lower right\")\n",
    "plt.title('ROC curve')\n",
    "plt.show()"
   ]
  },
  {
   "cell_type": "code",
   "execution_count": null,
   "metadata": {
    "colab": {
     "base_uri": "https://localhost:8080/"
    },
    "executionInfo": {
     "elapsed": 4,
     "status": "ok",
     "timestamp": 1682925354816,
     "user": {
      "displayName": "KARNATI MOHAN",
      "userId": "16604712269571437600"
     },
     "user_tz": -330
    },
    "id": "a451w5gDnEoB",
    "outputId": "61aa2396-cea9-4f5f-9fdd-c9dc5301872e"
   },
   "outputs": [],
   "source": [
    "#Area under ROC curve\n",
    "from sklearn.metrics import roc_auc_score\n",
    "roc_auc_score(y_test,y_pred_proba)"
   ]
  }
 ],
 "metadata": {
  "accelerator": "GPU",
  "colab": {
   "collapsed_sections": [
    "zgKeLfCk8iSM"
   ],
   "provenance": []
  },
  "gpuClass": "standard",
  "kernelspec": {
   "display_name": "Python 3 (ipykernel)",
   "language": "python",
   "name": "python3"
  },
  "language_info": {
   "codemirror_mode": {
    "name": "ipython",
    "version": 3
   },
   "file_extension": ".py",
   "mimetype": "text/x-python",
   "name": "python",
   "nbconvert_exporter": "python",
   "pygments_lexer": "ipython3",
   "version": "3.10.12"
  }
 },
 "nbformat": 4,
 "nbformat_minor": 4
}
